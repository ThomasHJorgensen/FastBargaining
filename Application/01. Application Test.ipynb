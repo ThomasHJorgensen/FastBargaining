{
 "cells": [
  {
   "cell_type": "code",
   "execution_count": 1,
   "metadata": {},
   "outputs": [],
   "source": [
    "%load_ext autoreload\n",
    "%autoreload 2\n",
    "\n",
    "import numpy as np\n",
    "from time import time\n",
    "\n",
    "import DynamicTimeAllocationModel\n",
    "\n",
    "path = 'output/'\n",
    "\n",
    "# c++ settings\n",
    "do_compile = True\n",
    "threads = 20\n",
    "\n",
    "# from EconModel import cpptools\n",
    "# cpptools.setup_nlopt(folder='cppfuncs/', do_print=True)"
   ]
  },
  {
   "cell_type": "markdown",
   "metadata": {},
   "source": [
    "# Solve and simulate from alternative models"
   ]
  },
  {
   "cell_type": "markdown",
   "metadata": {},
   "source": [
    "Benchmark model settings"
   ]
  },
  {
   "cell_type": "code",
   "execution_count": 2,
   "metadata": {},
   "outputs": [],
   "source": [
    "settings = { \n",
    "       'T':20,\n",
    "       'p_meet': 0.1, \n",
    "       'div_A_share': 0.5, \n",
    "       'sigma_love':0.1, \n",
    "\n",
    "       'num_love': 21, \n",
    "       'num_A': 50, \n",
    "       'num_A_pd':50,\n",
    "\n",
    "       'simT':20,\n",
    "       'simN': 10000,\n",
    "\n",
    "       'threads':threads,\n",
    "       'do_egm': True,\n",
    "       }"
   ]
  },
  {
   "cell_type": "markdown",
   "metadata": {},
   "source": [
    "Solve application model"
   ]
  },
  {
   "cell_type": "code",
   "execution_count": 3,
   "metadata": {},
   "outputs": [
    {
     "name": "stdout",
     "output_type": "stream",
     "text": [
      "CPU times: total: 3.59 s\n",
      "Wall time: 552 ms\n"
     ]
    }
   ],
   "source": [
    "model = DynamicTimeAllocationModel.HouseholdModelClass(par=settings)\n",
    "model.link_to_cpp(force_compile=do_compile)\n",
    "%time model.solve()"
   ]
  }
 ],
 "metadata": {
  "kernelspec": {
   "display_name": "base",
   "language": "python",
   "name": "python3"
  },
  "language_info": {
   "codemirror_mode": {
    "name": "ipython",
    "version": 3
   },
   "file_extension": ".py",
   "mimetype": "text/x-python",
   "name": "python",
   "nbconvert_exporter": "python",
   "pygments_lexer": "ipython3",
   "version": "3.11.5"
  }
 },
 "nbformat": 4,
 "nbformat_minor": 4
}
