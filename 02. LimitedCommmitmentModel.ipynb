{
 "cells": [
  {
   "cell_type": "code",
   "execution_count": 1,
   "metadata": {},
   "outputs": [],
   "source": [
    "%load_ext autoreload\n",
    "%load_ext line_profiler\n",
    "%autoreload 2\n",
    "\n",
    "import numpy as np\n",
    "import pickle\n",
    "from time import time\n",
    "\n",
    "import LimitedCommitmentModel as lcm\n",
    "\n",
    "path = 'output/'\n",
    "\n",
    "# c++ settings\n",
    "do_compile = True\n",
    "threads = 20\n",
    "\n",
    "# from EconModel import cpptools\n",
    "# cpptools.setup_nlopt(folder='cppfuncs/', do_print=True)"
   ]
  },
  {
   "cell_type": "markdown",
   "metadata": {},
   "source": [
    "# Solve and simulate from alternative models"
   ]
  },
  {
   "cell_type": "markdown",
   "metadata": {},
   "source": [
    "Benchmark model settings"
   ]
  },
  {
   "cell_type": "code",
   "execution_count": 2,
   "metadata": {},
   "outputs": [],
   "source": [
    "settings = { \n",
    "       'T':20,\n",
    "       'p_meet': 0.1, \n",
    "       'div_A_share': 0.5, \n",
    "       'sigma_love':0.1, \n",
    "\n",
    "       'num_love': 21, \n",
    "       'num_A': 50, \n",
    "       'num_A_pd':50,\n",
    "\n",
    "       'simT':20,\n",
    "       'simN': 10000,\n",
    "\n",
    "       'threads':threads,\n",
    "       }"
   ]
  },
  {
   "cell_type": "markdown",
   "metadata": {},
   "source": [
    "Solve \"true\" model through dense grids using VFI"
   ]
  },
  {
   "cell_type": "code",
   "execution_count": 3,
   "metadata": {},
   "outputs": [],
   "source": [
    "specs_true = {'true': {'latexname':'true', 'par':{**settings, 'do_egm':False,'precompute_intratemporal':False, 'num_A': 250, 'num_power':151, 'num_love':151}}}\n",
    "\n",
    "model_true = lcm.HouseholdModelClass(par=specs_true['true']['par'])\n",
    "model_true.link_to_cpp(force_compile=do_compile)\n",
    "model_true.solve()"
   ]
  },
  {
   "cell_type": "markdown",
   "metadata": {},
   "source": [
    "## Monte Carlo runs"
   ]
  },
  {
   "cell_type": "markdown",
   "metadata": {},
   "source": [
    "Monte Carlo settings"
   ]
  },
  {
   "cell_type": "code",
   "execution_count": 4,
   "metadata": {},
   "outputs": [],
   "source": [
    "MC_num = 200 # number of Monte Carlo simulations\n",
    "C_num_grid = (20,50,100,200) # number of grid points in consumption grid i iEGM\n",
    "do_EGM = True\n",
    "do_VFI = True\n",
    "PRINT = False"
   ]
  },
  {
   "cell_type": "markdown",
   "metadata": {},
   "source": [
    "Set up containers"
   ]
  },
  {
   "cell_type": "code",
   "execution_count": 5,
   "metadata": {},
   "outputs": [],
   "source": [
    "timing = {\n",
    "    'vfi':np.nan + np.zeros(MC_num),\n",
    "    'vfi precomp':np.nan + np.zeros(MC_num),\n",
    "    'egm, numerical': np.nan + np.zeros(MC_num),\n",
    "    'egm, numerical precomp': np.nan + np.zeros(MC_num),\n",
    "    'iegm, linear':dict(),\n",
    "    'iegm, linear precomp':dict(),\n",
    "    'iegm, linear inverse':dict(),\n",
    "    'iegm, linear inverse precomp':dict(),\n",
    "}\n",
    "util = {\n",
    "    'vfi':np.nan + np.zeros(MC_num),\n",
    "    'vfi precomp':np.nan + np.zeros(MC_num),\n",
    "    'egm, numerical': np.nan + np.zeros(MC_num),\n",
    "    'egm, numerical precomp': np.nan + np.zeros(MC_num),\n",
    "    'iegm, linear':dict(),\n",
    "    'iegm, linear precomp':dict(),\n",
    "    'iegm, linear inverse':dict(),\n",
    "    'iegm, linear inverse precomp':dict(),\n",
    "}\n",
    "for i_c,num_C in enumerate(C_num_grid):\n",
    "    timing['iegm, linear'][num_C] = np.nan + np.zeros(MC_num)\n",
    "    util['iegm, linear'][num_C] = np.nan + np.zeros(MC_num)\n",
    "    timing['iegm, linear precomp'][num_C] = np.nan + np.zeros(MC_num)\n",
    "    util['iegm, linear precomp'][num_C] = np.nan + np.zeros(MC_num)\n",
    "\n",
    "    timing['iegm, linear inverse'][num_C] = np.nan + np.zeros(MC_num)\n",
    "    util['iegm, linear inverse'][num_C] = np.nan + np.zeros(MC_num)\n",
    "    timing['iegm, linear inverse precomp'][num_C] = np.nan + np.zeros(MC_num)\n",
    "    util['iegm, linear inverse precomp'][num_C] = np.nan + np.zeros(MC_num)"
   ]
  },
  {
   "cell_type": "markdown",
   "metadata": {},
   "source": [
    "Run monte carlo simulations"
   ]
  },
  {
   "cell_type": "code",
   "execution_count": 6,
   "metadata": {},
   "outputs": [],
   "source": [
    "# setup alternative model solution\n",
    "model = lcm.HouseholdModelClass(par=settings)\n",
    "model.link_to_cpp(force_compile=False)"
   ]
  },
  {
   "cell_type": "code",
   "execution_count": 7,
   "metadata": {},
   "outputs": [],
   "source": [
    "for i_mc in range(MC_num):\n",
    "    if PRINT: print(f'{i_mc+1}/{MC_num} running...')\n",
    "\n",
    "    # simulate true model (solved once above)    \n",
    "    model_true.par.seed = i_mc\n",
    "    model_true.allocate_draws()\n",
    "    model_true.simulate()\n",
    "    true_mean_lifetime_util = model_true.sim.mean_lifetime_util\n",
    "\n",
    "    # re-draw for alternative model\n",
    "    model.par.seed = i_mc\n",
    "    model.allocate()\n",
    "\n",
    "    # VFI\n",
    "    if do_VFI:\n",
    "        model.par.do_egm = False\n",
    "        for precomp in (False, True):\n",
    "            model.par.precompute_intratemporal = precomp\n",
    "            name_now = 'vfi' if not precomp else 'vfi precomp'\n",
    "\n",
    "            # Timing\n",
    "            t0 = time()\n",
    "            model.solve()\n",
    "            timing[name_now][i_mc] = time() - t0\n",
    "\n",
    "            # Lifetime utility error\n",
    "            model.simulate()\n",
    "            util[name_now][i_mc] = np.abs((model.sim.mean_lifetime_util - true_mean_lifetime_util)/true_mean_lifetime_util) * 100\n",
    "\n",
    "\n",
    "    # EGM, numerical\n",
    "    if do_EGM:\n",
    "        model.par.do_egm = True\n",
    "        model.par.interp_method = \"numerical\"\n",
    "        for precomp in (False, True):\n",
    "            model.par.precompute_intratemporal = precomp\n",
    "            name_now = 'egm, numerical' if not precomp else 'egm, numerical precomp'\n",
    "\n",
    "            # Timing\n",
    "            t0 = time()\n",
    "            model.solve()\n",
    "            timing[name_now][i_mc] = time() - t0\n",
    "\n",
    "            # Lifetime utility error\n",
    "            model.simulate()\n",
    "            util[name_now][i_mc] = np.abs((model.sim.mean_lifetime_util - true_mean_lifetime_util)/true_mean_lifetime_util) * 100\n",
    "        \n",
    "\n",
    "    # iEGM\n",
    "    model.par.do_egm = True\n",
    "    model.par.interp_method = \"linear\"\n",
    "    #model.par.precompute_intratemporal = False # Never use pre-computed values besides the interpolator for C\n",
    "    for interp_inverse in (False,True):\n",
    "        for precomp in (False, True):\n",
    "            model.par.precompute_intratemporal = precomp\n",
    "            model.par.interp_inverse = interp_inverse\n",
    "            method = f'iegm, linear inverse' if interp_inverse else 'iegm, linear'\n",
    "            name_now = method + ('' if not precomp else ' precomp')\n",
    "            for i_c,num_C in enumerate(C_num_grid):\n",
    "                model.par.num_marg_u = num_C\n",
    "\n",
    "                model.allocate()\n",
    "\n",
    "                # Timing\n",
    "                t0 = time()\n",
    "                model.solve()\n",
    "                timing[name_now][num_C][i_mc] = time() - t0\n",
    "\n",
    "                # Lifetime utility error\n",
    "                model.simulate()\n",
    "                util[name_now][num_C][i_mc] = np.abs((model.sim.mean_lifetime_util - true_mean_lifetime_util)/true_mean_lifetime_util) * 100\n",
    "\n",
    "    # save MC objects\n",
    "    with open('output/MC_timing.pkl', 'wb') as f:\n",
    "        pickle.dump(timing, f)\n",
    "    with open('output/MC_util.pkl', 'wb') as f:\n",
    "        pickle.dump(util, f)"
   ]
  },
  {
   "cell_type": "markdown",
   "metadata": {},
   "source": [
    "Results"
   ]
  },
  {
   "cell_type": "code",
   "execution_count": 8,
   "metadata": {},
   "outputs": [
    {
     "data": {
      "text/plain": [
       "dict_keys(['vfi', 'vfi precomp', 'egm, numerical', 'egm, numerical precomp', 'iegm, linear', 'iegm, linear precomp', 'iegm, linear inverse', 'iegm, linear inverse precomp'])"
      ]
     },
     "execution_count": 8,
     "metadata": {},
     "output_type": "execute_result"
    }
   ],
   "source": [
    "timing.keys()"
   ]
  },
  {
   "cell_type": "code",
   "execution_count": 11,
   "metadata": {},
   "outputs": [
    {
     "name": "stdout",
     "output_type": "stream",
     "text": [
      "Lifetime utility & Timing (rel. to VFI)\n",
      "vfi: 0.1629 & 1.0000 \n",
      "egm, numerical: 0.1628 & 0.3148 \n",
      "vfi precomp: 0.1602 & 0.0221 \n",
      "egm, numerical precomp: 0.1601 & 0.0065 \n",
      "iegm, linear: \n",
      "20 0.1790 & 0.0206 \n",
      "50 0.1635 & 0.0213 \n",
      "100 0.1629 & 0.0212 \n",
      "200 0.1629 & 0.0212 \n",
      "iegm, linear inverse: \n",
      "20 0.1632 & 0.0204 \n",
      "50 0.1629 & 0.0214 \n",
      "100 0.1628 & 0.0213 \n",
      "200 0.1628 & 0.0213 \n",
      "iegm, linear precomp: \n",
      "20 0.1764 & 0.0019 \n",
      "50 0.1608 & 0.0019 \n",
      "100 0.1603 & 0.0019 \n",
      "200 0.1602 & 0.0019 \n",
      "iegm, linear inverse precomp: \n",
      "20 0.1605 & 0.0019 \n",
      "50 0.1602 & 0.0019 \n",
      "100 0.1602 & 0.0019 \n",
      "200 0.1602 & 0.0019 \n"
     ]
    }
   ],
   "source": [
    "print('Lifetime utility & Timing (rel. to VFI)')\n",
    "timing_vfi = np.nanmean(timing['vfi'])\n",
    "for method in ('vfi','egm, numerical', 'vfi precomp','egm, numerical precomp'):\n",
    "    util_now = np.nanmean(util[method])\n",
    "    time_now = np.nanmean(timing[method]) / timing_vfi\n",
    "    print(f'{method}: {util_now:2.4f} & {time_now:2.4f} ')\n",
    "\n",
    "for method in ('iegm, linear','iegm, linear inverse', 'iegm, linear precomp','iegm, linear inverse precomp'):\n",
    "    print(f'{method}: ')\n",
    "    for i_c,num_C in enumerate(C_num_grid):\n",
    "        util_now = np.nanmean(util[method][num_C]) \n",
    "        time_now = np.nanmean(timing[method][num_C]) / timing_vfi\n",
    "        print(f'{num_C:d} {util_now:2.4f} & {time_now:2.4f} ')"
   ]
  }
 ],
 "metadata": {
  "kernelspec": {
   "display_name": "Python 3",
   "language": "python",
   "name": "python3"
  },
  "language_info": {
   "codemirror_mode": {
    "name": "ipython",
    "version": 3
   },
   "file_extension": ".py",
   "mimetype": "text/x-python",
   "name": "python",
   "nbconvert_exporter": "python",
   "pygments_lexer": "ipython3",
   "version": "3.11.5"
  }
 },
 "nbformat": 4,
 "nbformat_minor": 4
}
